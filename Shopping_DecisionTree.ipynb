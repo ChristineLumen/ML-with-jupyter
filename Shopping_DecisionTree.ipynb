{
 "cells": [
  {
   "cell_type": "code",
   "execution_count": 17,
   "id": "afaf8944-a702-4f13-9937-713ffda61b84",
   "metadata": {},
   "outputs": [],
   "source": [
    "import pandas as pd\n",
    "from sklearn.tree import DecisionTreeClassifier\n",
    "from sklearn import tree\n",
    "\n",
    "shopping_data = pd.read_csv(\"shopping.csv\")\n",
    "X=shopping_data.drop(columns=[\"Behavior Types\"])\n",
    "y = shopping_data[\"Behavior Types\"]\n",
    "\n",
    "model =DecisionTreeClassifier()\n",
    "model.fit(X,y)\n",
    "tree.export_graphviz(model, out_file=\"shopping-recommender.dot\",\n",
    "                     feature_names = [\"age\", \"gender\"],\n",
    "                     class_names = sorted(y.unique()),\n",
    "                     label = \"all\",\n",
    "                     rounded = True)"
   ]
  },
  {
   "cell_type": "code",
   "execution_count": null,
   "id": "f92d5063-187f-452d-9a38-b05dc089f27c",
   "metadata": {},
   "outputs": [],
   "source": []
  }
 ],
 "metadata": {
  "kernelspec": {
   "display_name": "Python [conda env:base] *",
   "language": "python",
   "name": "conda-base-py"
  },
  "language_info": {
   "codemirror_mode": {
    "name": "ipython",
    "version": 3
   },
   "file_extension": ".py",
   "mimetype": "text/x-python",
   "name": "python",
   "nbconvert_exporter": "python",
   "pygments_lexer": "ipython3",
   "version": "3.13.5"
  }
 },
 "nbformat": 4,
 "nbformat_minor": 5
}
