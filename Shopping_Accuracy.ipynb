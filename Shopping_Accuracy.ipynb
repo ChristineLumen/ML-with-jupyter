{
 "cells": [
  {
   "cell_type": "code",
   "execution_count": 15,
   "id": "afaf8944-a702-4f13-9937-713ffda61b84",
   "metadata": {},
   "outputs": [
    {
     "data": {
      "text/plain": [
       "0.75"
      ]
     },
     "execution_count": 15,
     "metadata": {},
     "output_type": "execute_result"
    }
   ],
   "source": [
    "import pandas as pd\n",
    "from sklearn.tree import DecisionTreeClassifier\n",
    "from sklearn.model_selection import train_test_split\n",
    "from sklearn.metrics import accuracy_score\n",
    "shopping_data= pd.read_csv(\"shopping.csv\")\n",
    "X=shopping_data.drop(columns =[\"Behavior Types\"])\n",
    "y=shopping_data[\"Behavior Types\"]\n",
    "X_train, X_test, y_train, y_test=train_test_split(X,y, test_size = 0.2)\n",
    "model = DecisionTreeClassifier()\n",
    "model.fit(X_train,y_train)\n",
    "predictions = model.predict(X_test)\n",
    "score = accuracy_score(y_test, predictions)\n",
    "score"
   ]
  },
  {
   "cell_type": "code",
   "execution_count": null,
   "id": "f92d5063-187f-452d-9a38-b05dc089f27c",
   "metadata": {},
   "outputs": [],
   "source": []
  }
 ],
 "metadata": {
  "kernelspec": {
   "display_name": "Python [conda env:base] *",
   "language": "python",
   "name": "conda-base-py"
  },
  "language_info": {
   "codemirror_mode": {
    "name": "ipython",
    "version": 3
   },
   "file_extension": ".py",
   "mimetype": "text/x-python",
   "name": "python",
   "nbconvert_exporter": "python",
   "pygments_lexer": "ipython3",
   "version": "3.13.5"
  }
 },
 "nbformat": 4,
 "nbformat_minor": 5
}
